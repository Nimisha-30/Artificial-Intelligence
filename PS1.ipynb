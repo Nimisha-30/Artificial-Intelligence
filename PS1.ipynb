{
  "nbformat": 4,
  "nbformat_minor": 0,
  "metadata": {
    "colab": {
      "provenance": [],
      "authorship_tag": "ABX9TyOticeuhMw+oE9vqRnsTlh0",
      "include_colab_link": true
    },
    "kernelspec": {
      "name": "python3",
      "display_name": "Python 3"
    },
    "language_info": {
      "name": "python"
    }
  },
  "cells": [
    {
      "cell_type": "markdown",
      "metadata": {
        "id": "view-in-github",
        "colab_type": "text"
      },
      "source": [
        "<a href=\"https://colab.research.google.com/github/Nimisha-30/ArtificialIntelligence/blob/main/PS1.ipynb\" target=\"_parent\"><img src=\"https://colab.research.google.com/assets/colab-badge.svg\" alt=\"Open In Colab\"/></a>"
      ]
    },
    {
      "cell_type": "markdown",
      "source": [
        "#Uninformed/Blind Search Algorithms"
      ],
      "metadata": {
        "id": "J733UTabEGrJ"
      }
    },
    {
      "cell_type": "code",
      "execution_count": null,
      "metadata": {
        "id": "5Ay9ijEM_4Ty",
        "colab": {
          "base_uri": "https://localhost:8080/"
        },
        "outputId": "46055d30-be5e-4e6c-8727-c5f7f1539605"
      },
      "outputs": [
        {
          "output_type": "stream",
          "name": "stdout",
          "text": [
            "Looking in indexes: https://pypi.org/simple, https://us-python.pkg.dev/colab-wheels/public/simple/\n",
            "Requirement already satisfied: igraph in /usr/local/lib/python3.8/dist-packages (0.10.2)\n",
            "Requirement already satisfied: texttable>=1.6.2 in /usr/local/lib/python3.8/dist-packages (from igraph) (1.6.7)\n"
          ]
        }
      ],
      "source": [
        "!pip install igraph"
      ]
    },
    {
      "cell_type": "code",
      "source": [
        "import igraph as ig\n",
        "import matplotlib.pyplot as plt"
      ],
      "metadata": {
        "id": "XencndfqEJkE"
      },
      "execution_count": null,
      "outputs": []
    },
    {
      "cell_type": "markdown",
      "source": [
        "##Function to display graph"
      ],
      "metadata": {
        "id": "g8nR7O_kETL7"
      }
    },
    {
      "cell_type": "code",
      "source": [
        "graph={0:[1,2],1:[3,4],2:[5],3:[],4:[5],5:[]}\n",
        "v=6\n",
        "edge_list=[[0,1],[0,2],[1,3],[1,4],[2,5],[4,5]]\n",
        "g=ig.Graph(n=v, edges=edge_list)\n",
        "g.vs[\"name\"]=[5,3,7,2,4,8]\n",
        "fig, ax = plt.subplots(figsize=(5,5))\n",
        "ig.plot(g,target=ax,layout=\"tree\",vertex_size=0.2,vertex_color=\"green\",vertex_label=g.vs[\"name\"],vertex_label_size=10,edge_width=4,edge_color=\"black\")\n",
        "plt.show()"
      ],
      "metadata": {
        "colab": {
          "base_uri": "https://localhost:8080/",
          "height": 303
        },
        "id": "nPfH5Rv8ERT0",
        "outputId": "3ddef3eb-15ca-4017-9666-fa7e923ed2d0"
      },
      "execution_count": null,
      "outputs": [
        {
          "output_type": "display_data",
          "data": {
            "text/plain": [
              "<Figure size 360x360 with 1 Axes>"
            ],
            "image/png": "[encoded data removed]"
          },
          "metadata": {}
        }
      ]
    },
    {
      "cell_type": "code",
      "source": [
        "def displayGraph(v, list1):\n",
        "  g=ig.Graph(n=v, edges=list1)\n",
        "  #g.vs[\"name\"]=[5,3,7,2,4,8]\n",
        "  #g.vs['name']=[i for i in range(v)]\n",
        "  g.vs['name']=['A', 'B', 'C', 'D', 'E', 'G', 'F']\n",
        "  fig,ax=plt.subplots(figsize=(10,10))\n",
        "  ig.plot(g,target=ax,layout='tree',vertex_size=0.1,vertex_color='purple',vertex_label=g.vs['name'],vertex_label_size=10,edge_width=2,edge_color='black')\n",
        "  plt.show()"
      ],
      "metadata": {
        "id": "LJ15KPSBERLi"
      },
      "execution_count": null,
      "outputs": []
    },
    {
      "cell_type": "code",
      "source": [
        "# uncomment \"g.vs['name']=[i for i in range(v)]\" in displayGraph function \n",
        "displayGraph(v, edge_list)"
      ],
      "metadata": {
        "colab": {
          "base_uri": "https://localhost:8080/",
          "height": 575
        },
        "id": "zQZpq_XKZOPe",
        "outputId": "808f65d7-2309-40e6-b833-8da92c3343fb"
      },
      "execution_count": null,
      "outputs": [
        {
          "output_type": "display_data",
          "data": {
            "text/plain": [
              "<Figure size 720x720 with 1 Axes>"
            ],
            "image/png": "[encoded data removed]"
          },
          "metadata": {}
        }
      ]
    },
    {
      "cell_type": "markdown",
      "source": [
        "##Breadth First Search"
      ],
      "metadata": {
        "id": "XhZiu1PhMQSO"
      }
    },
    {
      "cell_type": "code",
      "source": [
        "# uncomment \"g.vs[\"name\"]=[5,3,7,2,4,8]\" in displayGraph function\"\n",
        "visited=[]\n",
        "queue=[]\n",
        "def BFS(visited, graph, node):\n",
        "  visited.append(node)\n",
        "  queue.append(node)\n",
        "  while(queue):\n",
        "    m=queue.pop(0)\n",
        "    print(m, end=\" \")\n",
        "    for neighbour in graph[m]:\n",
        "      if neighbour not in visited:\n",
        "        visited.append(neighbour)\n",
        "        queue.append(neighbour)\n",
        "  list2=[]\n",
        "  for i in range(len(visited)-1):\n",
        "    list1=[]\n",
        "    list1.append(int(visited[i]))\n",
        "    list1.append(int(visited[i+1]))\n",
        "    list2.append(list1)\n",
        "  print()\n",
        "  print(list2)\n",
        "  displayGraph(6,list2)\n",
        "BFS(visited, graph, 0)"
      ],
      "metadata": {
        "colab": {
          "base_uri": "https://localhost:8080/",
          "height": 611
        },
        "id": "CHvmj7Z5ERba",
        "outputId": "a0c89bf4-397e-4151-c43b-11c5245be2b0"
      },
      "execution_count": null,
      "outputs": [
        {
          "output_type": "stream",
          "name": "stdout",
          "text": [
            "0 1 2 3 4 5 \n",
            "[[0, 1], [1, 2], [2, 3], [3, 4], [4, 5]]\n"
          ]
        },
        {
          "output_type": "display_data",
          "data": {
            "text/plain": [
              "<Figure size 720x720 with 1 Axes>"
            ],
            "image/png": "[encoded data removed]"
          },
          "metadata": {}
        }
      ]
    },
    {
      "cell_type": "code",
      "source": [
        "# a-0, b-1, c-2, d-3, e-4, g-5, f-6\n",
        "graph={0: [1, 2],1: [3,4],2: [5],3: [],4: [6],5: [],6: []}\n",
        "edgelist=[[0, 1], [0, 2], [1, 3], [1, 4], [2, 5], [4, 6]]\n",
        "displayGraph(7, edgelist)"
      ],
      "metadata": {
        "id": "wkkcKoVbcMRh"
      },
      "execution_count": null,
      "outputs": []
    },
    {
      "cell_type": "code",
      "source": [
        "def BFS(graph, start, dest):\n",
        "    queue=list()\n",
        "    visited=list()\n",
        "    queue.append(start)\n",
        "    print('Visited:', start)\n",
        "    result=[\"Path unavailable.\", list()]\n",
        "    while queue:\n",
        "        node=queue.pop(0)\n",
        "        visited.append(node)\n",
        "        if node==dest:\n",
        "            print('Destination node found:', node)\n",
        "            result[0] = 'Path is available.'\n",
        "            break\n",
        "        print(node, 'is not a destination node.')\n",
        "        for child in graph[node]:\n",
        "            if child not in visited:\n",
        "                queue.append(child)\n",
        "    result[1]=visited \n",
        "    return result\n",
        "result=BFS(graph, 0, 6)\n",
        "print(result[0])\n",
        "result.remove(result[0])\n",
        "result=result[0]\n",
        "finalpath2=[]\n",
        "for i in range(len(result)-1):\n",
        "  list1=[]\n",
        "  list1.append(result[i])\n",
        "  list1.append(result[i+1])\n",
        "  finalpath2.append(list1)\n",
        "print(finalpath2)\n",
        "displayGraph(7, finalpath2)"
      ],
      "metadata": {
        "colab": {
          "base_uri": "https://localhost:8080/",
          "height": 754
        },
        "id": "6zFPPdufXaM_",
        "outputId": "3746deca-2f06-4dc9-e6b3-54f2b5f59dc5"
      },
      "execution_count": null,
      "outputs": [
        {
          "output_type": "stream",
          "name": "stdout",
          "text": [
            "Visited: 0\n",
            "0 is not a destination node.\n",
            "1 is not a destination node.\n",
            "2 is not a destination node.\n",
            "3 is not a destination node.\n",
            "4 is not a destination node.\n",
            "5 is not a destination node.\n",
            "Destination node found: 6\n",
            "Path is available.\n",
            "[[0, 1], [1, 2], [2, 3], [3, 4], [4, 5], [5, 6]]\n"
          ]
        },
        {
          "output_type": "display_data",
          "data": {
            "text/plain": [
              "<Figure size 720x720 with 1 Axes>"
            ],
            "image/png": "[encoded data removed]"
          },
          "metadata": {}
        }
      ]
    },
    {
      "cell_type": "markdown",
      "source": [
        "##Depth First Search"
      ],
      "metadata": {
        "id": "5Yy62qiAUQfo"
      }
    },
    {
      "cell_type": "code",
      "source": [
        "def DFS(graph, start, dest):\n",
        "    stack=list()\n",
        "    visited=list()\n",
        "    stack.append(start)\n",
        "    visited.append(start)\n",
        "    print('Visited:', start)\n",
        "    result = ['Path unavailable.', list()]\n",
        "    while stack:\n",
        "        node = stack.pop() \n",
        "        if node==dest:\n",
        "            print('Destination node found:', node)\n",
        "            result[0] = 'Path is available.'\n",
        "            break\n",
        "        print(node,'is not a destination node.')\n",
        "        for child in graph[node]:\n",
        "            if child not in visited:\n",
        "                visited.append(child)\n",
        "                stack.append(child)\n",
        "    result[1]=visited \n",
        "    return result\n",
        "result=DFS(graph, 0, 5)\n",
        "print(result[0])\n",
        "result.remove(result[0])\n",
        "result=result[0]\n",
        "finalpath2=[]\n",
        "for i in range(len(result)-1):\n",
        "  list1=[]\n",
        "  list1.append(result[i])\n",
        "  list1.append(result[i+1])\n",
        "  finalpath2.append(list1)\n",
        "print(finalpath2)\n",
        "displayGraph(7, finalpath2)"
      ],
      "metadata": {
        "colab": {
          "base_uri": "https://localhost:8080/",
          "height": 463
        },
        "id": "ihAHVftWQiyL",
        "outputId": "1efe2da2-4f76-4b9f-eb17-6f70ee04fbf4"
      },
      "execution_count": null,
      "outputs": [
        {
          "output_type": "stream",
          "name": "stdout",
          "text": [
            "Visited: 0\n",
            "0 is not a destination node.\n",
            "2 is not a destination node.\n",
            "Destination node found: 5\n",
            "Path is available.\n",
            "[[0, 1], [1, 2], [2, 5]]\n"
          ]
        },
        {
          "output_type": "display_data",
          "data": {
            "text/plain": [
              "<Figure size 720x720 with 1 Axes>"
            ],
            "image/png": "[encoded data removed]"
          },
          "metadata": {}
        }
      ]
    },
    {
      "cell_type": "markdown",
      "source": [
        "##Depth Limited Search"
      ],
      "metadata": {
        "id": "_tIZb7TIUUiM"
      }
    },
    {
      "cell_type": "code",
      "source": [
        "def DLS(start, goal, path, level, maxDepth):\n",
        "  print(\"Current level:\", level)\n",
        "  print(\"Goal node testing for:\", start)\n",
        "  path.append(start)\n",
        "  if start==goal:\n",
        "    print(\"Goal node test successful.\")\n",
        "    return path\n",
        "  print(\"Goal node test failed.\")\n",
        "  if level==maxDepth:\n",
        "    return False\n",
        "  print(\"Expanding current node:\", start)\n",
        "  for child in graph[start]:\n",
        "    if DLS(child, goal, path, level+1, maxDepth):\n",
        "      return path\n",
        "    path.pop()\n",
        "  return False\n",
        "path=list()\n",
        "result=DLS(0, 3, path, 0, 3)\n",
        "if result:\n",
        "  print(\"Path to goal node available.\")\n",
        "  print(path)\n",
        "  finalpath2=[]\n",
        "  for i in range(len(path)-1):\n",
        "    list1=[]\n",
        "    list1.append(path[i])\n",
        "    list1.append(path[i+1])\n",
        "    finalpath2.append(list1)\n",
        "  print(finalpath2)\n",
        "  displayGraph(7, finalpath2)\n",
        "else:\n",
        "  print(\"Path to goal node unavailable in given depth limit.\")"
      ],
      "metadata": {
        "id": "WwkzaB3AQi29",
        "colab": {
          "base_uri": "https://localhost:8080/",
          "height": 414
        },
        "outputId": "295fd2e6-74b4-4a15-b194-1e775587185f"
      },
      "execution_count": null,
      "outputs": [
        {
          "output_type": "stream",
          "name": "stdout",
          "text": [
            "Current level: 0\n",
            "Goal node testing for: 0\n",
            "Goal node test failed.\n",
            "Expanding current node: 0\n",
            "Current level: 1\n",
            "Goal node testing for: 1\n",
            "Goal node test failed.\n",
            "Expanding current node: 1\n",
            "Current level: 2\n",
            "Goal node testing for: 3\n",
            "Goal node test successful.\n",
            "Path to goal node available.\n",
            "[0, 1, 3]\n",
            "[[0, 1], [1, 3]]\n"
          ]
        },
        {
          "output_type": "display_data",
          "data": {
            "text/plain": [
              "<Figure size 720x720 with 1 Axes>"
            ],
            "image/png": "[encoded data removed]"
          },
          "metadata": {}
        }
      ]
    },
    {
      "cell_type": "markdown",
      "source": [
        "##Iterative deepening search"
      ],
      "metadata": {
        "id": "1AXRikDsUkiu"
      }
    },
    {
      "cell_type": "code",
      "source": [
        "path=list()\n",
        "def DFS(currentNode, dest, graph, maxDepth, curList):\n",
        "  print(\"Checking for destination: \", currentNode)\n",
        "  curList.append(currentNode)\n",
        "  if currentNode==dest:\n",
        "    return True\n",
        "  if maxDepth<=0:\n",
        "    path.append(curList)\n",
        "    return False\n",
        "  for node in graph[currentNode]:\n",
        "    if DFS(node, dest, graph, maxDepth-1, curList):\n",
        "      return True\n",
        "    else:\n",
        "      curList.pop()\n",
        "  return False\n",
        "def iterativeDeepeningDFS(currentNode, dest, graph, maxDepth):\n",
        "  for i in range(maxDepth):\n",
        "    curList=list()\n",
        "    if DFS(currentNode, dest, graph, i, curList):\n",
        "      return True\n",
        "  return False\n",
        "if iterativeDeepeningDFS(0, 5, graph, 4):\n",
        "  print(\"Path is available.\")\n",
        "  finalpath=path.pop()\n",
        "  finalpath2=[]\n",
        "  for i in range(len(finalpath)-1):\n",
        "    list1=[]\n",
        "    list1.append(finalpath[i])\n",
        "    list1.append(finalpath[i+1])\n",
        "    finalpath2.append(list1)\n",
        "  print(finalpath2)\n",
        "  displayGraph(7, finalpath2)\n",
        "else:\n",
        "  print(\"Path is not available.\")"
      ],
      "metadata": {
        "id": "zMdAySx_UpnY",
        "colab": {
          "base_uri": "https://localhost:8080/",
          "height": 395
        },
        "outputId": "fd05028c-3558-4932-a1c9-8ea38985f492"
      },
      "execution_count": null,
      "outputs": [
        {
          "output_type": "stream",
          "name": "stdout",
          "text": [
            "Checking for destination:  0\n",
            "Checking for destination:  0\n",
            "Checking for destination:  1\n",
            "Checking for destination:  2\n",
            "Checking for destination:  0\n",
            "Checking for destination:  1\n",
            "Checking for destination:  3\n",
            "Checking for destination:  4\n",
            "Checking for destination:  2\n",
            "Checking for destination:  5\n",
            "Path is available.\n",
            "[[0, 2], [2, 5]]\n"
          ]
        },
        {
          "output_type": "display_data",
          "data": {
            "text/plain": [
              "<Figure size 720x720 with 1 Axes>"
            ],
            "image/png": "[encoded data removed]"
          },
          "metadata": {}
        }
      ]
    }
  ]
}