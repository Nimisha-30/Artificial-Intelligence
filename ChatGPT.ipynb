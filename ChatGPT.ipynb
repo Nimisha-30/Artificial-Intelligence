{
  "nbformat": 4,
  "nbformat_minor": 0,
  "metadata": {
    "colab": {
      "provenance": [],
      "authorship_tag": "ABX9TyM0ylMB4k68Rujl7Xjz88fV",
      "include_colab_link": true
    },
    "kernelspec": {
      "name": "python3",
      "display_name": "Python 3"
    },
    "language_info": {
      "name": "python"
    }
  },
  "cells": [
    {
      "cell_type": "markdown",
      "metadata": {
        "id": "view-in-github",
        "colab_type": "text"
      },
      "source": [
        "<a href=\"https://colab.research.google.com/github/Nimisha-30/ArtificialIntelligence/blob/main/ChatGPT.ipynb\" target=\"_parent\"><img src=\"https://colab.research.google.com/assets/colab-badge.svg\" alt=\"Open In Colab\"/></a>"
      ]
    },
    {
      "cell_type": "markdown",
      "source": [
        "https://www.javatpoint.com/artificial-intelligence-ai"
      ],
      "metadata": {
        "id": "fsty5NsSgw0B"
      }
    },
    {
      "cell_type": "markdown",
      "source": [
        "#Uninformed/Blind Search Algorithms"
      ],
      "metadata": {
        "id": "xpb0WQaTfEz6"
      }
    },
    {
      "cell_type": "markdown",
      "source": [
        "##Depth First Search"
      ],
      "metadata": {
        "id": "IOSPRFWgdLqV"
      }
    },
    {
      "cell_type": "code",
      "source": [
        "import networkx as nx\n",
        "\n",
        "def dfs(graph, start, goal):\n",
        "    stack = [(start, [start])]\n",
        "    while stack:\n",
        "        (vertex, path) = stack.pop()\n",
        "        set1=set(graph[vertex])\n",
        "        set2=set1-set(path)\n",
        "        for next_node in set2:\n",
        "            if next_node == goal:\n",
        "                return path + [next_node]\n",
        "            else:\n",
        "                stack.append((next_node, path + [next_node]))\n",
        "    return None\n",
        "\n",
        "G = nx.Graph()\n",
        "G.add_edges_from([(1, 2), (1, 3), (2, 4), (2, 5), (3, 6), (3, 7)])\n",
        "path = dfs(G, 5, 3)\n",
        "print(path)\n",
        "\n",
        "# Visualization of the path\n",
        "pos = nx.spring_layout(G)\n",
        "nx.draw(G, pos, with_labels=True)\n",
        "path_edges = [(path[i], path[i+1]) for i in range(len(path)-1)]\n",
        "path_nodes = path\n",
        "nx.draw_networkx_nodes(G, pos, nodelist=path_nodes, node_color='r')\n",
        "nx.draw_networkx_edges(G, pos, edgelist=path_edges, edge_color='r', width=2)\n"
      ],
      "metadata": {
        "colab": {
          "base_uri": "https://localhost:8080/",
          "height": 354
        },
        "id": "vVW93bzxeJIO",
        "outputId": "95e68f34-c544-4792-960c-98ed9aae3176"
      },
      "execution_count": 76,
      "outputs": [
        {
          "output_type": "stream",
          "name": "stdout",
          "text": [
            "[5, 2, 1, 3]\n"
          ]
        },
        {
          "output_type": "execute_result",
          "data": {
            "text/plain": [
              "<matplotlib.collections.LineCollection at 0x7f90a4f05610>"
            ]
          },
          "metadata": {},
          "execution_count": 76
        },
        {
          "output_type": "display_data",
          "data": {
            "text/plain": [
              "<Figure size 432x288 with 1 Axes>"
            ],
            "image/png": "[encoded data removed]"
          },
          "metadata": {}
        }
      ]
    },
    {
      "cell_type": "markdown",
      "source": [
        "##Breadth First Search"
      ],
      "metadata": {
        "id": "hltcTd0cdI2t"
      }
    },
    {
      "cell_type": "code",
      "source": [
        "import networkx as nx\n",
        "\n",
        "def bfs(graph, start, goal):\n",
        "    queue = [(start, [start])]\n",
        "    while queue:\n",
        "        (vertex, path) = queue.pop(0)\n",
        "        set1=set(graph[vertex])\n",
        "        set2=set1-set(path)\n",
        "        for next_node in set2:\n",
        "            if next_node == goal:\n",
        "                return path + [next_node]\n",
        "            else:\n",
        "                queue.append((next_node, path + [next_node]))\n",
        "    return None\n",
        "\n",
        "G = nx.Graph()\n",
        "G.add_edges_from([(1, 2), (1, 3), (2, 4), (2, 5), (3, 6), (3, 7)])\n",
        "path = bfs(G, 1, 7)\n",
        "print(path)\n",
        "\n",
        "# Visualization of the path\n",
        "pos = nx.spring_layout(G)\n",
        "nx.draw(G, pos, with_labels=True)\n",
        "path_edges = [(path[i], path[i+1]) for i in range(len(path)-1)]\n",
        "path_nodes = path\n",
        "nx.draw_networkx_nodes(G, pos, nodelist=path_nodes, node_color='r')\n",
        "nx.draw_networkx_edges(G, pos, edgelist=path_edges, edge_color='r', width=2)\n"
      ],
      "metadata": {
        "colab": {
          "base_uri": "https://localhost:8080/",
          "height": 354
        },
        "id": "gyYnx7OGbOos",
        "outputId": "df7d7c84-2dc2-43b1-c319-e9f7ea97074c"
      },
      "execution_count": 75,
      "outputs": [
        {
          "output_type": "stream",
          "name": "stdout",
          "text": [
            "[1, 3, 7]\n"
          ]
        },
        {
          "output_type": "execute_result",
          "data": {
            "text/plain": [
              "<matplotlib.collections.LineCollection at 0x7f90a4ec8310>"
            ]
          },
          "metadata": {},
          "execution_count": 75
        },
        {
          "output_type": "display_data",
          "data": {
            "text/plain": [
              "<Figure size 432x288 with 1 Axes>"
            ],
            "image/png": "[encoded data removed]"
          },
          "metadata": {}
        }
      ]
    },
    {
      "cell_type": "markdown",
      "source": [
        "##Depth Limited Search"
      ],
      "metadata": {
        "id": "7_uR9nKedN3_"
      }
    },
    {
      "cell_type": "code",
      "source": [
        "import networkx as nx\n",
        "\n",
        "def depth_limited_search(graph, start, goal, limit):\n",
        "    if start == goal:\n",
        "        return [start]\n",
        "    if limit <= 0:\n",
        "        return None\n",
        "    for next_node in graph[start]:\n",
        "        path = depth_limited_search(graph, next_node, goal, limit-1)\n",
        "        if path is not None:\n",
        "            return [start] + path\n",
        "    return None\n",
        "\n",
        "G = nx.Graph()\n",
        "G.add_edges_from([(1, 2), (1, 3), (2, 4), (2, 5), (3, 6), (3, 7)])\n",
        "path = depth_limited_search(G, 2, 7, 3)\n",
        "print(path)\n",
        "\n",
        "# Visualization of the path\n",
        "pos = nx.spring_layout(G)\n",
        "nx.draw(G, pos, with_labels=True)\n",
        "path_edges = [(path[i], path[i+1]) for i in range(len(path)-1)]\n",
        "path_nodes = path\n",
        "nx.draw_networkx_nodes(G, pos, nodelist=path_nodes, node_color='r')\n",
        "nx.draw_networkx_edges(G, pos, edgelist=path_edges, edge_color='r', width=2)\n"
      ],
      "metadata": {
        "colab": {
          "base_uri": "https://localhost:8080/",
          "height": 354
        },
        "id": "ybq4YqLravxX",
        "outputId": "4c1b15b2-fb37-46e9-c053-f7eea22d5b0f"
      },
      "execution_count": null,
      "outputs": [
        {
          "output_type": "stream",
          "name": "stdout",
          "text": [
            "[2, 1, 3, 7]\n"
          ]
        },
        {
          "output_type": "execute_result",
          "data": {
            "text/plain": [
              "<matplotlib.collections.LineCollection at 0x7f90a527e280>"
            ]
          },
          "metadata": {},
          "execution_count": 60
        },
        {
          "output_type": "display_data",
          "data": {
            "text/plain": [
              "<Figure size 432x288 with 1 Axes>"
            ],
            "image/png": "[encoded data removed]"
          },
          "metadata": {}
        }
      ]
    },
    {
      "cell_type": "markdown",
      "source": [
        "##Iterative Deepening Depth First Search"
      ],
      "metadata": {
        "id": "bphO58Que1Lw"
      }
    },
    {
      "cell_type": "code",
      "source": [
        "import networkx as nx\n",
        "\n",
        "def iddfs(graph, start, goal):\n",
        "    for depth in range(0, len(graph)):\n",
        "        path = dls(graph, start, goal, depth)\n",
        "        if path is not None:\n",
        "            return path\n",
        "    return None\n",
        "\n",
        "def dls(graph, start, goal, depth):\n",
        "    if start == goal:\n",
        "        return [start]\n",
        "    if depth <= 0:\n",
        "        return None\n",
        "    for next_node in graph[start]:\n",
        "        path = dls(graph, next_node, goal, depth-1)\n",
        "        if path is not None:\n",
        "            return [start] + path\n",
        "    return None\n",
        "\n",
        "G = nx.Graph()\n",
        "G.add_edges_from([(1, 2), (1, 3), (2, 4), (2, 5), (3, 6), (3, 7)])\n",
        "path = iddfs(G, 1, 7)\n",
        "print(path)\n",
        "\n",
        "# Visualization of the path\n",
        "pos = nx.spring_layout(G)\n",
        "nx.draw(G, pos, with_labels=True)\n",
        "path_edges = [(path[i], path[i+1]) for i in range(len(path)-1)]\n",
        "path_nodes = path\n",
        "nx.draw_networkx_nodes(G, pos, nodelist=path_nodes, node_color='r')\n",
        "nx.draw_networkx_edges(G, pos, edgelist=path_edges, edge_color='r', width=2)\n"
      ],
      "metadata": {
        "colab": {
          "base_uri": "https://localhost:8080/",
          "height": 354
        },
        "id": "kHQ6TIfeXleP",
        "outputId": "1953a28f-3246-42cd-8911-92c05a29ea27"
      },
      "execution_count": null,
      "outputs": [
        {
          "output_type": "stream",
          "name": "stdout",
          "text": [
            "[1, 3, 7]\n"
          ]
        },
        {
          "output_type": "execute_result",
          "data": {
            "text/plain": [
              "<matplotlib.collections.LineCollection at 0x7f90adae7fd0>"
            ]
          },
          "metadata": {},
          "execution_count": 58
        },
        {
          "output_type": "display_data",
          "data": {
            "text/plain": [
              "<Figure size 432x288 with 1 Axes>"
            ],
            "image/png": "[encoded data removed]"
          },
          "metadata": {}
        }
      ]
    },
    {
      "cell_type": "markdown",
      "source": [
        "##Uniform Cost Search"
      ],
      "metadata": {
        "id": "CAXYaRkae7fe"
      }
    },
    {
      "cell_type": "code",
      "source": [
        "import heapq\n",
        "import networkx as nx\n",
        "\n",
        "def uniform_cost_search(graph, start, goal):\n",
        "    frontier = []\n",
        "    heapq.heappush(frontier, (0, start))\n",
        "    came_from = {}\n",
        "    cost_so_far = {}\n",
        "    came_from[start] = None\n",
        "    cost_so_far[start] = 0\n",
        "    while frontier:\n",
        "        current = heapq.heappop(frontier)[1]\n",
        "        if current == goal:\n",
        "            break\n",
        "        for next_node in graph[current].keys():\n",
        "            new_cost = cost_so_far[current] + graph[current][next_node]['weight']\n",
        "            if next_node not in cost_so_far or new_cost < cost_so_far[next_node]:\n",
        "                cost_so_far[next_node] = new_cost\n",
        "                priority = new_cost\n",
        "                heapq.heappush(frontier, (priority, next_node))\n",
        "                came_from[next_node] = current\n",
        "    return came_from, cost_so_far\n",
        "\n",
        "def construct_path(came_from, start, goal):\n",
        "    current = goal\n",
        "    path = [current]\n",
        "    while current != start:\n",
        "        current = came_from[current]\n",
        "        path.append(current)\n",
        "    path.reverse()\n",
        "    return path\n",
        "\n",
        "G = nx.Graph()\n",
        "G.add_edges_from([(1, 2, {'weight': 2}), (1, 3, {'weight': 1}), (2, 4, {'weight': 3}), (2, 5, {'weight': 4}), (3, 6, {'weight': 2}), (3, 7, {'weight': 2})])\n",
        "came_from, cost_so_far = uniform_cost_search(G, 1, 7)\n",
        "path = construct_path(came_from, 1, 7)\n",
        "print(path)\n",
        "\n",
        "# Visualization of the path\n",
        "pos = nx.spring_layout(G)\n",
        "nx.draw(G, pos, with_labels=True)\n",
        "path_edges = [(path[i], path[i+1]) for i in range(len(path)-1)]\n",
        "path_nodes = path\n",
        "nx.draw_networkx_nodes(G, pos, nodelist=path_nodes, node_color='r')\n",
        "nx.draw_networkx_edges(G, pos, edgelist=path_edges, edge_color='r', width=2)\n"
      ],
      "metadata": {
        "colab": {
          "base_uri": "https://localhost:8080/",
          "height": 354
        },
        "id": "TNxsUTJzVATN",
        "outputId": "459f240f-777d-4c37-be7d-03482ed0dac6"
      },
      "execution_count": null,
      "outputs": [
        {
          "output_type": "stream",
          "name": "stdout",
          "text": [
            "[1, 3, 7]\n"
          ]
        },
        {
          "output_type": "execute_result",
          "data": {
            "text/plain": [
              "<matplotlib.collections.LineCollection at 0x7f90a561bd90>"
            ]
          },
          "metadata": {},
          "execution_count": 57
        },
        {
          "output_type": "display_data",
          "data": {
            "text/plain": [
              "<Figure size 432x288 with 1 Axes>"
            ],
            "image/png": "[encoded data removed]"
          },
          "metadata": {}
        }
      ]
    },
    {
      "cell_type": "markdown",
      "source": [
        "##Bidirectional Search"
      ],
      "metadata": {
        "id": "KuvsC4_je-bC"
      }
    },
    {
      "cell_type": "code",
      "source": [
        "import networkx as nx\n",
        "\n",
        "def bidirectional_search(graph, start, goal):\n",
        "    queue_start = [(start, [start])]\n",
        "    queue_goal = [(goal, [goal])]\n",
        "    while queue_start and queue_goal:\n",
        "        (vertex_start, path_start) = queue_start.pop(0)\n",
        "        (vertex_goal, path_goal) = queue_goal.pop(0)\n",
        "\n",
        "        set1=set(graph[vertex_start])\n",
        "        set2=set1 - set(path_start)\n",
        "\n",
        "        for next_node in set2:\n",
        "            if next_node in path_goal:\n",
        "                path_start.append(next_node)\n",
        "                path_goal.append(next_node)\n",
        "                path_goal.reverse()\n",
        "                return path_start + path_goal[1:]\n",
        "            else:\n",
        "                queue_start.append((next_node, path_start + [next_node]))\n",
        "\n",
        "        set3=set(graph[vertex_goal])\n",
        "        set4=set3-set(path_goal)\n",
        "\n",
        "        for next_node in set4:\n",
        "            if next_node in path_start:\n",
        "                path_start.append(next_node)\n",
        "                path_goal.append(next_node)\n",
        "                path_goal.reverse()\n",
        "                return path_start + path_goal[1:]\n",
        "            else:\n",
        "                queue_goal.append((next_node, path_goal + [next_node]))\n",
        "    return None\n",
        "\n",
        "G = nx.Graph()\n",
        "G.add_edges_from([(1, 2), (1, 3), (2, 4), (2, 5), (3, 6), (3, 7)])\n",
        "path = bidirectional_search(G, 1, 7)\n",
        "print(path)\n",
        "\n",
        "# Visualization of the path\n",
        "pos = nx.spring_layout(G)\n",
        "nx.draw(G, pos, with_labels=True)\n",
        "path_edges = [(path[i], path[i+1]) for i in range(len(path)-1)]\n",
        "path_nodes = path\n",
        "nx.draw_networkx_nodes(G, pos, nodelist=path_nodes, node_color='r')\n",
        "nx.draw_networkx_edges(G, pos, edgelist=path_edges, edge_color='r', width=2)\n"
      ],
      "metadata": {
        "id": "9lgyfiCzfDgD",
        "colab": {
          "base_uri": "https://localhost:8080/",
          "height": 354
        },
        "outputId": "8bdbc435-7cb9-4c75-e59b-187e4fe9e90c"
      },
      "execution_count": 73,
      "outputs": [
        {
          "output_type": "stream",
          "name": "stdout",
          "text": [
            "[1, 2, 1, 3, 7]\n"
          ]
        },
        {
          "output_type": "execute_result",
          "data": {
            "text/plain": [
              "<matplotlib.collections.LineCollection at 0x7f90a5480700>"
            ]
          },
          "metadata": {},
          "execution_count": 73
        },
        {
          "output_type": "display_data",
          "data": {
            "text/plain": [
              "<Figure size 432x288 with 1 Axes>"
            ],
            "image/png": "[encoded data removed]"
          },
          "metadata": {}
        }
      ]
    },
    {
      "cell_type": "markdown",
      "source": [
        "#Informed/Heuristic based Search Algorithms"
      ],
      "metadata": {
        "id": "VZtjVj_3fMav"
      }
    },
    {
      "cell_type": "markdown",
      "source": [
        "##Pure Heuristic Search"
      ],
      "metadata": {
        "id": "bEwFnxmGfbX4"
      }
    },
    {
      "cell_type": "markdown",
      "source": [
        "###Best First Search Algorithm"
      ],
      "metadata": {
        "id": "f_rMXxOVfTWU"
      }
    },
    {
      "cell_type": "code",
      "source": [
        "import networkx as nx\n",
        "\n",
        "def best_first_search(graph, start, goal, heuristic):\n",
        "    queue = [(start, [start], 0)]\n",
        "    while queue:\n",
        "        (vertex, path, cost) = min(queue, key=lambda x: heuristic(x[0], goal))\n",
        "        queue.remove((vertex, path, cost))\n",
        "        for next_node in graph[vertex]:\n",
        "            if next_node == goal:\n",
        "                return path + [next_node]\n",
        "            else:\n",
        "                new_cost = cost + 1\n",
        "                queue.append((next_node, path + [next_node], new_cost))\n",
        "    return None\n",
        "\n",
        "def manhattan_distance(a, b):\n",
        "    x1, y1 = a, a\n",
        "    x2, y2 = b, b\n",
        "    return abs(x1 - x2) + abs(y1 - y2)\n",
        "\n",
        "G = nx.Graph()\n",
        "G.add_edges_from([(1, 2), (1, 3), (2, 4), (2, 5), (3, 6), (3, 7)])\n",
        "pos = nx.spring_layout(G)\n",
        "nx.draw(G, pos, with_labels=True)\n",
        "\n",
        "path = best_first_search(G, 1, 7, manhattan_distance)\n",
        "print(path)\n",
        "\n",
        "# Visualization of the path\n",
        "path_edges = [(path[i], path[i+1]) for i in range(len(path)-1)]\n",
        "path_nodes = path\n",
        "nx.draw_networkx_nodes(G, pos, nodelist=path_nodes, node_color='r')\n",
        "nx.draw_networkx_edges(G, pos, edgelist=path_edges, edge_color='r', width=2)\n"
      ],
      "metadata": {
        "id": "NPGOH6Y_fYHU",
        "colab": {
          "base_uri": "https://localhost:8080/",
          "height": 354
        },
        "outputId": "9c4aa298-4726-403a-ead9-94d9266e2455"
      },
      "execution_count": 78,
      "outputs": [
        {
          "output_type": "stream",
          "name": "stdout",
          "text": [
            "[1, 3, 7]\n"
          ]
        },
        {
          "output_type": "execute_result",
          "data": {
            "text/plain": [
              "<matplotlib.collections.LineCollection at 0x7f90a5000790>"
            ]
          },
          "metadata": {},
          "execution_count": 78
        },
        {
          "output_type": "display_data",
          "data": {
            "text/plain": [
              "<Figure size 432x288 with 1 Axes>"
            ],
            "image/png": "[encoded data removed]"
          },
          "metadata": {}
        }
      ]
    },
    {
      "cell_type": "markdown",
      "source": [
        "###A* Search Algorithm"
      ],
      "metadata": {
        "id": "4nTGMHTPf9Gx"
      }
    },
    {
      "cell_type": "code",
      "source": [
        "import networkx as nx\n",
        "import heapq\n",
        "\n",
        "def astar(graph, start, goal, heuristic):\n",
        "    heap = [(0, start, [])]\n",
        "    visited = set()\n",
        "    while heap:\n",
        "        (f, vertex, path) = heapq.heappop(heap)\n",
        "        if vertex in visited:\n",
        "            continue\n",
        "        visited.add(vertex)\n",
        "        path = path + [vertex]\n",
        "        if vertex == goal:\n",
        "            return path\n",
        "        for neighbor in graph[vertex]:\n",
        "            g = len(path)\n",
        "            h = heuristic(neighbor, goal)\n",
        "            f = g + h\n",
        "            heapq.heappush(heap, (f, neighbor, path))\n",
        "    return None\n",
        "\n",
        "def manhattan_distance(a, b):\n",
        "    x1, y1 = a, a\n",
        "    x2, y2 = b, b\n",
        "    return abs(x1 - x2) + abs(y1 - y2)\n",
        "\n",
        "G = nx.Graph()\n",
        "G.add_edges_from([(1, 2), (1, 3), (2, 4), (2, 5), (3, 6), (3, 7)])\n",
        "pos = nx.spring_layout(G)\n",
        "nx.draw(G, pos, with_labels=True)\n",
        "\n",
        "path = astar(G, 1, 7, manhattan_distance)\n",
        "print(path)\n",
        "\n",
        "# Visualization of the path\n",
        "path_edges = [(path[i], path[i+1]) for i in range(len(path)-1)]\n",
        "path_nodes = path\n",
        "nx.draw_networkx_nodes(G, pos, nodelist=path_nodes, node_color='r')\n",
        "nx.draw_networkx_edges(G, pos, edgelist=path_edges, edge_color='r', width=2)\n"
      ],
      "metadata": {
        "id": "XZYr3bSqfYWE",
        "colab": {
          "base_uri": "https://localhost:8080/",
          "height": 354
        },
        "outputId": "4989b52d-a545-4d66-a95c-8b63583ae31a"
      },
      "execution_count": 80,
      "outputs": [
        {
          "output_type": "stream",
          "name": "stdout",
          "text": [
            "[1, 3, 7]\n"
          ]
        },
        {
          "output_type": "execute_result",
          "data": {
            "text/plain": [
              "<matplotlib.collections.LineCollection at 0x7f90a4ffc3a0>"
            ]
          },
          "metadata": {},
          "execution_count": 80
        },
        {
          "output_type": "display_data",
          "data": {
            "text/plain": [
              "<Figure size 432x288 with 1 Axes>"
            ],
            "image/png": "[encoded data removed]"
          },
          "metadata": {}
        }
      ]
    },
    {
      "cell_type": "markdown",
      "source": [
        "##Hill Climbing Search Algorithm"
      ],
      "metadata": {
        "id": "xDE5gNZPgABP"
      }
    },
    {
      "cell_type": "code",
      "source": [],
      "metadata": {
        "id": "c2LFvBvGzJH-"
      },
      "execution_count": null,
      "outputs": []
    },
    {
      "cell_type": "markdown",
      "source": [
        "#Adversarial Search Algorithm"
      ],
      "metadata": {
        "id": "SBUA27eDgWGj"
      }
    },
    {
      "cell_type": "markdown",
      "source": [
        "##Minimax Algorithm"
      ],
      "metadata": {
        "id": "l8QgIP0zgkfb"
      }
    },
    {
      "cell_type": "code",
      "source": [],
      "metadata": {
        "id": "ZFKy8vPOzJw3"
      },
      "execution_count": null,
      "outputs": []
    },
    {
      "cell_type": "markdown",
      "source": [
        "##Alpha Beta Pruning"
      ],
      "metadata": {
        "id": "pK-GgnY-gmhp"
      }
    },
    {
      "cell_type": "code",
      "source": [],
      "metadata": {
        "id": "tNL_xRzHzLCh"
      },
      "execution_count": null,
      "outputs": []
    }
  ]
}