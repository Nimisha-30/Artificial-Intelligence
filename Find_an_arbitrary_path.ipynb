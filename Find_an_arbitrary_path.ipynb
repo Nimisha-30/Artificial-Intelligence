{
  "nbformat": 4,
  "nbformat_minor": 0,
  "metadata": {
    "colab": {
      "provenance": [],
      "authorship_tag": "ABX9TyPWQ9piXzmWQ1gViOqy0npI",
      "include_colab_link": true
    },
    "kernelspec": {
      "name": "python3",
      "display_name": "Python 3"
    },
    "language_info": {
      "name": "python"
    }
  },
  "cells": [
    {
      "cell_type": "markdown",
      "metadata": {
        "id": "view-in-github",
        "colab_type": "text"
      },
      "source": [
        "<a href=\"https://colab.research.google.com/github/Nimisha-30/ArtificialIntelligence/blob/main/Find_an_arbitrary_path.ipynb\" target=\"_parent\"><img src=\"https://colab.research.google.com/assets/colab-badge.svg\" alt=\"Open In Colab\"/></a>"
      ]
    },
    {
      "cell_type": "code",
      "source": [
        "!pip install igraph"
      ],
      "metadata": {
        "colab": {
          "base_uri": "https://localhost:8080/"
        },
        "id": "Rdie0MKZlIBS",
        "outputId": "a91e3795-4571-4f6a-b7e7-fa7824dfa9f3"
      },
      "execution_count": 1,
      "outputs": [
        {
          "output_type": "stream",
          "name": "stdout",
          "text": [
            "Looking in indexes: https://pypi.org/simple, https://us-python.pkg.dev/colab-wheels/public/simple/\n",
            "Collecting igraph\n",
            "  Downloading igraph-0.10.3-cp38-cp38-manylinux_2_17_x86_64.manylinux2014_x86_64.whl (3.3 MB)\n",
            "\u001b[2K     \u001b[90m━━━━━━━━━━━━━━━━━━━━━━━━━━━━━━━━━━━━━━━━\u001b[0m \u001b[32m3.3/3.3 MB\u001b[0m \u001b[31m30.4 MB/s\u001b[0m eta \u001b[36m0:00:00\u001b[0m\n",
            "\u001b[?25hCollecting texttable>=1.6.2\n",
            "  Downloading texttable-1.6.7-py2.py3-none-any.whl (10 kB)\n",
            "Installing collected packages: texttable, igraph\n",
            "Successfully installed igraph-0.10.3 texttable-1.6.7\n"
          ]
        }
      ]
    },
    {
      "cell_type": "code",
      "execution_count": 2,
      "metadata": {
        "colab": {
          "base_uri": "https://localhost:8080/",
          "height": 424
        },
        "id": "B4vzALuQgTjM",
        "outputId": "9961f475-0898-42bb-ae73-8fdd478b2c25"
      },
      "outputs": [
        {
          "output_type": "stream",
          "name": "stdout",
          "text": [
            "[[0, 1, 1, 0, 0]\n",
            " [1, 0, 1, 1, 0]\n",
            " [1, 1, 0, 1, 1]\n",
            " [0, 1, 1, 0, 2]\n",
            " [0, 0, 1, 2, 0]]\n"
          ]
        },
        {
          "output_type": "display_data",
          "data": {
            "text/plain": [
              "<Figure size 360x360 with 1 Axes>"
            ],
            "image/png": "[encoded data removed]"
          },
          "metadata": {}
        },
        {
          "output_type": "stream",
          "name": "stdout",
          "text": [
            "[[0, 2, 4]]\n",
            "Shortest distance is 2\n"
          ]
        }
      ],
      "source": [
        "import igraph as ig\n",
        "import matplotlib.pyplot as plt\n",
        "g=ig.Graph()\n",
        "g=ig.Graph(n=5, edges=[[0, 1], [0, 2], [1, 2], [1, 3], [2, 3], [2, 4], [3, 4], [4, 3]])\n",
        "matrix=g.get_adjacency()\n",
        "print(matrix)\n",
        "g.vs[\"name\"]=[\"0\", \"1\", \"2\", \"3\", \"4\"]\n",
        "fig, ax=plt.subplots(figsize=(5,5))\n",
        "ig.plot(g, target=ax, layout=\"circle\", vertex_size=0.1, vertex_color=\"red\", vertex_label=g.vs[\"name\"], vertex_label_size=10)\n",
        "plt.show()\n",
        "results=g.get_shortest_paths(0, to=4, output=\"vpath\")\n",
        "print(results)\n",
        "if len(results[0])>0:\n",
        "    print(\"Shortest distance is\", len(results[0])-1)\n",
        "else:\n",
        "    print(\"End node cannot be reached from given starting node.\")"
      ]
    },
    {
      "cell_type": "code",
      "source": [
        "src=0\n",
        "dest=4\n",
        "def findPath(matrix, src, dest):\n",
        "  i=src\n",
        "  j=0\n",
        "  n=len(matrix[0])\n",
        "  path=[]\n",
        "  path.append(src)\n",
        "  for i in range(n):\n",
        "    for j in range(n):\n",
        "      if matrix[i][j]!=0:\n",
        "        if j not in path:\n",
        "          path.append(j)\n",
        "          if j==dest:\n",
        "            path.append(j)\n",
        "            return path\n",
        "path=findPath(matrix, src, dest)\n",
        "print(path)"
      ],
      "metadata": {
        "colab": {
          "base_uri": "https://localhost:8080/"
        },
        "id": "_9dav6Kirewx",
        "outputId": "df2c289f-ac6b-4d09-d4c1-b12ec0748674"
      },
      "execution_count": 3,
      "outputs": [
        {
          "output_type": "stream",
          "name": "stdout",
          "text": [
            "[0, 1, 2, 3, 4, 4]\n"
          ]
        }
      ]
    }
  ]
}