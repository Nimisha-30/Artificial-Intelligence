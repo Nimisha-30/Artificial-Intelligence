{
  "nbformat": 4,
  "nbformat_minor": 0,
  "metadata": {
    "colab": {
      "provenance": []
    },
    "kernelspec": {
      "name": "python3",
      "display_name": "Python 3"
    },
    "language_info": {
      "name": "python"
    }
  },
  "cells": [
    {
      "cell_type": "markdown",
      "source": [
        "#Import libraries"
      ],
      "metadata": {
        "id": "qXNnclC0rweo"
      }
    },
    {
      "cell_type": "code",
      "source": [
        "import numpy as np\n",
        "import pandas as pd\n",
        "import random\n",
        "import math\n",
        "from sklearn.model_selection import train_test_split\n",
        "from sklearn.ensemble import RandomForestClassifier\n",
        "from sklearn.model_selection import KFold\n",
        "from sklearn.metrics import accuracy_score"
      ],
      "metadata": {
        "id": "0-3qeH5D2NXa"
      },
      "execution_count": null,
      "outputs": []
    },
    {
      "cell_type": "markdown",
      "source": [
        "#Import and process dataset"
      ],
      "metadata": {
        "id": "4UxuDX9mr5vu"
      }
    },
    {
      "cell_type": "code",
      "source": [
        "# U: pandas dataframe\n",
        "U=pd.read_csv(\"/content/australian - Copy.dat\", sep=' ')\n",
        "U=U[:30]\n",
        "# C: list of feature names\n",
        "C=U.columns\n",
        "C=list(C)\n",
        "# D: target variable column name\n",
        "D=C.pop()\n",
        "g=random.randint(1,256)\n",
        "# list of features in descending order of dependency degree\n",
        "S=[]\n",
        "T=list(set(U.iloc[:,-1]))\n",
        "# target variable used in cross-validation of classification accuracy\n",
        "y=U['O']"
      ],
      "metadata": {
        "id": "khTNh19Zy6At"
      },
      "execution_count": null,
      "outputs": []
    },
    {
      "cell_type": "markdown",
      "source": [
        "#Fuzzy dominance relation value"
      ],
      "metadata": {
        "id": "bqgurx0gt--5"
      }
    },
    {
      "cell_type": "code",
      "source": [
        "def f(x,y,a):\n",
        "  v1=U.iloc[x][a]\n",
        "  v2=U.iloc[y][a]\n",
        "  try:\n",
        "    res=math.exp(-g*(v1-v2))\n",
        "    return 1/(1+math.exp(-g*(v1-v2)))\n",
        "  except OverflowError:\n",
        "    return math.inf"
      ],
      "metadata": {
        "id": "yLqIJ_1kt3q3"
      },
      "execution_count": null,
      "outputs": []
    },
    {
      "cell_type": "markdown",
      "source": [
        "#Upward dependence degree"
      ],
      "metadata": {
        "id": "8HoDskum4c_Y"
      }
    },
    {
      "cell_type": "code",
      "source": [
        "def fp(P,x,y):\n",
        "  temp=[]\n",
        "  for i in P:\n",
        "    temp.append(f(x,y,i))\n",
        "  return min(temp)\n",
        "\n",
        "def gamma(P):\n",
        "  sum=0\n",
        "  tot=0\n",
        "  for i in range(1,len(T)):\n",
        "    cl=U[U[D[0]]>=i]\n",
        "    tot=tot+len(cl)\n",
        "    for x in cl.index:\n",
        "      temp=[]\n",
        "      cl2=U[U[D[0]]<i]\n",
        "      for y in cl2.index:\n",
        "        pos=fp(P,x,y)\n",
        "        if pos==math.inf:\n",
        "          temp.append(pos)\n",
        "        else:\n",
        "          temp.append(1-pos)\n",
        "      val=min(temp)\n",
        "    sum=sum+val\n",
        "    return sum/tot"
      ],
      "metadata": {
        "id": "ZSTnl2r94a6k"
      },
      "execution_count": null,
      "outputs": []
    },
    {
      "cell_type": "markdown",
      "source": [
        "#Feature Selection Algorithm"
      ],
      "metadata": {
        "id": "0FaIN7VF6ho6"
      }
    },
    {
      "cell_type": "code",
      "source": [
        "while len(C)!=0:\n",
        "  temp={}\n",
        "  for i in C:\n",
        "    P=S+[i]\n",
        "    temp[i]=gamma(P)\n",
        "  ck = max(temp, key= lambda x: temp[x])\n",
        "  S=S+[ck]\n",
        "  C.remove(ck)\n",
        "\n",
        "print(\"List of features in descending order of dependency degree:\\n\", S)"
      ],
      "metadata": {
        "id": "1GZ7_BX_AOOV",
        "colab": {
          "base_uri": "https://localhost:8080/"
        },
        "outputId": "16a31706-71a6-44e6-8c8c-91588fcb6d94"
      },
      "execution_count": null,
      "outputs": [
        {
          "output_type": "stream",
          "name": "stdout",
          "text": [
            "List of features in descending order of dependency degree:\n",
            " ['F', 'A', 'B', 'C', 'D', 'E', 'G', 'H', 'I', 'J', 'K', 'L', 'M', 'N']\n"
          ]
        }
      ]
    },
    {
      "cell_type": "markdown",
      "source": [
        "#Cross-validating Classification Accuracy"
      ],
      "metadata": {
        "id": "XhD1mLbDvjeK"
      }
    },
    {
      "cell_type": "code",
      "source": [
        "S_list=[]\n",
        "accuracy_dict={}\n",
        "for i in S:\n",
        "  S_list.append(i)\n",
        "  x_train, x_test, y_train, y_test=train_test_split(U[S_list], y, test_size=0.2)\n",
        "  rf = RandomForestClassifier()\n",
        "  rf.fit(x_train, y_train)\n",
        "  y_pred = rf.predict(x_test)\n",
        "  accuracy = accuracy_score(y_test, y_pred)\n",
        "  kf = KFold(n_splits=5, shuffle=True, random_state=42)\n",
        "  scores = []\n",
        "  for train_index, test_index in kf.split(U[S_list]):\n",
        "    rf.fit(x_train, y_train)\n",
        "    y_pred = rf.predict(x_test)\n",
        "    score = accuracy_score(y_test, y_pred)\n",
        "    scores.append(score)\n",
        "  print(S_list)\n",
        "  print(\"Mean accuracy: \", round(np.mean(scores), 2))\n",
        "  print()\n",
        "  accuracy_dict[tuple(S_list)]=round(np.mean(scores), 2)\n",
        "S_max=max(zip(accuracy_dict.values(), accuracy_dict.keys()))[1]\n",
        "print(\"\\nThe best set of features with highest classification accuracy is:\\n\", S_max)"
      ],
      "metadata": {
        "id": "omAoFV6q8_3Z",
        "colab": {
          "base_uri": "https://localhost:8080/"
        },
        "outputId": "219afdf9-7545-46a5-fbbc-ee287505b0d4"
      },
      "execution_count": null,
      "outputs": [
        {
          "output_type": "stream",
          "name": "stdout",
          "text": [
            "['F']\n",
            "Mean accuracy:  0.67\n",
            "\n",
            "['F', 'A']\n",
            "Mean accuracy:  0.67\n",
            "\n",
            "['F', 'A', 'B']\n",
            "Mean accuracy:  0.6\n",
            "\n",
            "['F', 'A', 'B', 'C']\n",
            "Mean accuracy:  0.17\n",
            "\n",
            "['F', 'A', 'B', 'C', 'D']\n",
            "Mean accuracy:  0.5\n",
            "\n",
            "['F', 'A', 'B', 'C', 'D', 'E']\n",
            "Mean accuracy:  0.57\n",
            "\n",
            "['F', 'A', 'B', 'C', 'D', 'E', 'G']\n",
            "Mean accuracy:  0.47\n",
            "\n",
            "['F', 'A', 'B', 'C', 'D', 'E', 'G', 'H']\n",
            "Mean accuracy:  0.7\n",
            "\n",
            "['F', 'A', 'B', 'C', 'D', 'E', 'G', 'H', 'I']\n",
            "Mean accuracy:  1.0\n",
            "\n",
            "['F', 'A', 'B', 'C', 'D', 'E', 'G', 'H', 'I', 'J']\n",
            "Mean accuracy:  0.87\n",
            "\n",
            "['F', 'A', 'B', 'C', 'D', 'E', 'G', 'H', 'I', 'J', 'K']\n",
            "Mean accuracy:  1.0\n",
            "\n",
            "['F', 'A', 'B', 'C', 'D', 'E', 'G', 'H', 'I', 'J', 'K', 'L']\n",
            "Mean accuracy:  0.83\n",
            "\n",
            "['F', 'A', 'B', 'C', 'D', 'E', 'G', 'H', 'I', 'J', 'K', 'L', 'M']\n",
            "Mean accuracy:  1.0\n",
            "\n",
            "['F', 'A', 'B', 'C', 'D', 'E', 'G', 'H', 'I', 'J', 'K', 'L', 'M', 'N']\n",
            "Mean accuracy:  1.0\n",
            "\n",
            "\n",
            "The best set of features with highest classification accuracy is:\n",
            " ('F', 'A', 'B', 'C', 'D', 'E', 'G', 'H', 'I', 'J', 'K', 'L', 'M', 'N')\n"
          ]
        }
      ]
    }
  ]
}
